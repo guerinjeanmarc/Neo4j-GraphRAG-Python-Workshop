{
 "cells": [
  {
   "cell_type": "markdown",
   "id": "7107ffd5",
   "metadata": {},
   "source": [
    "[![Open In Colab](https://colab.research.google.com/assets/colab-badge.svg)](https://colab.research.google.com/github/guerinjeanmarc/Neo4j-GraphRAG-Python-Workshop/blob/main/workshop-notebooks/01_quickstart_text2cypher.ipynb)"
   ]
  },
  {
   "cell_type": "markdown",
   "id": "01452d71",
   "metadata": {},
   "source": [
    "# 🚀 Quickstart: Knowledge Graph from PDFs + Text2Cypher GraphRAG\n",
    "\n",
    "**What you'll learn:**\n",
    "- Build a knowledge graph from pharmaceutical PDFs using Neo4j GraphRAG Python package\n",
    "- Query your graph using Text2Cypher retriever\n",
    "- Run complete GraphRAG pipelines\n",
    "\n",
    "**Prerequisites:**\n",
    "- A Neo4j database instance (see setup options below)\n",
    "- OpenAI API key (provided by instructor )\n",
    "- Basic Python knowledge\n",
    "\n",
    "---\n",
    "\n",
    "## 🔧 Neo4j Setup Options\n",
    "\n",
    "Choose **ONE** of the following options:\n",
    "\n",
    "### Option 1: Neo4j Aura Free (Recommended for this workshop)\n",
    "- Free cloud database, no installation needed\n",
    "- [Create account](https://console-preview.neo4j.io/)\n",
    "- Save your credentials from the download\n",
    "\n",
    "### Option 2: Neo4j Sandbox\n",
    "- Temporary database (3-10 days), pre-configured\n",
    "- [Launch sandbox](https://sandbox.neo4j.com/)\n",
    "- Select \"Blank Sandbox\"\n",
    "\n",
    "### Option 3: Neo4j Desktop\n",
    "- Local installation, full control\n",
    "- [Download](https://neo4j.com/download/)\n",
    "- Create a new project and database\n",
    "\n",
    "**💡 Tip:** Copy your `NEO4J_URI`, `NEO4J_USERNAME`, and `NEO4J_PASSWORD` - you'll need them below!\n"
   ]
  },
  {
   "cell_type": "markdown",
   "id": "8629bc29",
   "metadata": {},
   "source": [
    "## 📦 Step 1: Install Dependencies\n",
    "\n",
    "This will take ~2 minutes. We're installing:\n",
    "- `neo4j-graphrag` - Official Neo4j GraphRAG package\n",
    "- `google-generativeai` - Gemini API client\n",
    "- Additional utilities for PDF processing\n"
   ]
  },
  {
   "cell_type": "code",
   "execution_count": null,
   "id": "c16fcba9",
   "metadata": {},
   "outputs": [],
   "source": [
    "%%capture\n",
    "%pip install neo4j-graphrag python-dotenv langchain-text-splitters pypdf langchain-google-genai \"neo4j-graphrag[openai]\"\n"
   ]
  },
  {
   "cell_type": "markdown",
   "id": "ab6c170a",
   "metadata": {},
   "source": [
    "## 🔐 Step 2: Configure Credentials\n",
    "\n",
    "**Two options for entering credentials:**\n",
    "\n",
    "### Option A: Using .env file (local or Colab with Drive)\n",
    "Upload a `.env` file with your credentials, or create one.\n",
    "\n",
    "### Option B: Direct input (Recommended for Colab)\n",
    "Replace the placeholder values below with your actual credentials.\n"
   ]
  },
  {
   "cell_type": "code",
   "execution_count": null,
   "id": "d51b0307",
   "metadata": {},
   "outputs": [],
   "source": [
    "import os\n",
    "from dotenv import load_dotenv\n",
    "\n",
    "# Try loading from .env file\n",
    "load_dotenv()\n",
    "\n",
    "# Configure your credentials here (Option B - recommended for Colab)\n",
    "# Replace these with your actual values!\n",
    "NEO4J_URI = os.getenv('NEO4J_URI', '<your-neo4j-uri>')\n",
    "NEO4J_USERNAME = os.getenv('NEO4J_USERNAME', 'neo4j')\n",
    "NEO4J_PASSWORD = os.getenv('NEO4J_PASSWORD', '<your-password>')\n",
    "NEO4J_DATABASE = os.getenv('NEO4J_DATABASE', 'neo4j')\n",
    "OPENAI_API_KEY = os.getenv('OPENAI_API_KEY', '<your-openai-api-key>')\n",
    "\n",
    "\n",
    "# Set environment variables\n",
    "os.environ['OPENAI_API_KEY'] = OPENAI_API_KEY\n",
    "\n",
    "# Verify we have credentials\n",
    "if 'your-' in NEO4J_URI or 'your-' in OPENAI_API_KEY:\n",
    "    print(\"⚠️  WARNING: Please update the credentials above with your actual values!\")\n",
    "else:\n",
    "    print(\"✓ Credentials configured\")\n"
   ]
  },
  {
   "cell_type": "markdown",
   "id": "91728cb9",
   "metadata": {},
   "source": [
    "## ✅ Step 3: Test Neo4j Connection\n"
   ]
  },
  {
   "cell_type": "code",
   "execution_count": null,
   "id": "20ab897a",
   "metadata": {},
   "outputs": [],
   "source": [
    "from neo4j import GraphDatabase\n",
    "\n",
    "# Connect to Neo4j\n",
    "driver = GraphDatabase.driver(NEO4J_URI, auth=(NEO4J_USERNAME, NEO4J_PASSWORD))\n",
    "\n",
    "# Verify connectivity\n",
    "try:\n",
    "    driver.verify_connectivity()\n",
    "    print(f\"✓ Connected to Neo4j at {NEO4J_URI}\")\n",
    "    print(f\"  Database: {NEO4J_DATABASE}\")\n",
    "except Exception as e:\n",
    "    print(f\"❌ Connection failed: {e}\")\n",
    "    print(\"\\nTroubleshooting:\")\n",
    "    print(\"1. Check your NEO4J_URI format (should include neo4j+s:// or bolt://)\")\n",
    "    print(\"2. Verify username and password\")\n",
    "    print(\"3. Make sure your database is running\")\n",
    "    raise\n"
   ]
  },
  {
   "cell_type": "markdown",
   "id": "e8f72446",
   "metadata": {},
   "source": [
    "## 📄 Step 4: Download Sample PDFs\n",
    "\n",
    "We'll use pharmaceutical pipeline reports. In Colab, we need to download them first.\n"
   ]
  },
  {
   "cell_type": "code",
   "execution_count": null,
   "id": "66c51fd6",
   "metadata": {},
   "outputs": [],
   "source": [
    "import os\n",
    "import urllib.request\n",
    "\n",
    "# Create data directory\n",
    "os.makedirs('workshop-data', exist_ok=True)\n",
    "\n",
    "# GitHub raw URL base (update this with your GitHub username/repo)\n",
    "GITHUB_BASE = \"https://raw.githubusercontent.com/guerinjeanmarc/Neo4j-GraphRAG-Python-Workshop/main/workshop-data/\"\n",
    "\n",
    "# PDF files to download\n",
    "pdf_files = [\n",
    "    \"AbbVie Long-Term Guidance and Pipeline Update.pdf\",\n",
    "    \"BMY-2024-Q1-Results-Investor-Presentation-with-Appendix.pdf\",\n",
    "    \"JNJ-Pipeline-2Q2024.pdf\",\n",
    "    \"ph-rd-pipeline-2025-07-24-update-20250725.pdf\"\n",
    "]\n",
    "\n",
    "# Download files\n",
    "print(\"Downloading PDFs...\")\n",
    "for pdf_file in pdf_files:\n",
    "    local_path = f\"workshop-data/{pdf_file}\"\n",
    "    if not os.path.exists(local_path):\n",
    "        try:\n",
    "            url = GITHUB_BASE + pdf_file.replace(\" \", \"%20\")\n",
    "            urllib.request.urlretrieve(url, local_path)\n",
    "            print(f\"  ✓ {pdf_file}\")\n",
    "        except Exception as e:\n",
    "            print(f\"  ⚠️  Could not download {pdf_file}: {e}\")\n",
    "            print(f\"     You can manually upload this file to the workshop-data/ folder\")\n",
    "    else:\n",
    "        print(f\"  ✓ {pdf_file} (already exists)\")\n",
    "\n",
    "print(\"\\n✓ PDF setup complete\")\n"
   ]
  },
  {
   "cell_type": "markdown",
   "id": "29f82ea8",
   "metadata": {},
   "source": [
    "---\n",
    "\n",
    "# 🏗️ Part 1: Building the Knowledge Graph\n",
    "\n",
    "We'll use the `SimpleKGPipeline` to automatically extract entities and relationships from PDFs.\n"
   ]
  },
  {
   "cell_type": "markdown",
   "id": "eb649438",
   "metadata": {},
   "source": [
    "## 🎯 Define Schema\n",
    "\n",
    "Schema helps guide the LLM to extract relevant entities and relationships.\n",
    "\n",
    "**Pharmaceutical Knowledge Graph Schema:**\n",
    "- **Entities:** Molecule, Company, Target, Disease\n",
    "- **Relationships:** TREATS, TARGETS, ASSOCIATED, IN_PIPELINE\n"
   ]
  },
  {
   "cell_type": "code",
   "execution_count": null,
   "id": "a52f64da",
   "metadata": {},
   "outputs": [],
   "source": [
    "node_labels = [\"Molecule\", \"Company\", \"Target\", \"Disease\"]\n",
    "\n",
    "rel_types = [\"TREATS\", \"TARGETS\", \"ASSOCIATED\", \"IN_PIPELINE\"]\n",
    "\n",
    "patterns = [\n",
    "    (\"Molecule\", \"TREATS\", \"Disease\"),\n",
    "    (\"Company\", \"IN_PIPELINE\", \"Molecule\"),\n",
    "    (\"Molecule\", \"TARGETS\", \"Target\"),\n",
    "    (\"Disease\", \"ASSOCIATED\", \"Target\"),\n",
    "]\n",
    "        \n",
    "print(\"✓ Schema defined:\")\n",
    "print(f\"  Entities: {', '.join(node_labels)}\")\n",
    "print(f\"  Relationships: {', '.join(rel_types)}\")\n"
   ]
  },
  {
   "cell_type": "markdown",
   "id": "46d39a43",
   "metadata": {},
   "source": [
    "## 💬 Create Custom Extraction Prompt\n",
    "\n",
    "This prompt guides the LLM on how to extract information from pharmaceutical documents.\n"
   ]
  },
  {
   "cell_type": "code",
   "execution_count": null,
   "id": "7afdb476",
   "metadata": {},
   "outputs": [],
   "source": [
    "prompt_template = '''\n",
    "You are a medical researcher tasked with extracting information from pharmaceutical documents\n",
    "and structuring it in a property graph to inform drug development and research Q&A.\n",
    "\n",
    "Extract the entities (nodes) and specify their type from the following Input text.\n",
    "Also extract the relationships between these nodes. The relationship direction goes from the start node to the end node.\n",
    "\n",
    "Return result as JSON using the following format:\n",
    "{{\"nodes\": [ {{\"id\": \"0\", \"label\": \"the type of entity\", \"properties\": {{\"name\": \"name of entity\" }} }}],\n",
    "  \"relationships\": [{{\"type\": \"TYPE_OF_RELATIONSHIP\", \"start_node_id\": \"0\", \"end_node_id\": \"1\", \"properties\": {{\"details\": \"Description of the relationship\"}} }}] }}\n",
    "\n",
    "Guidelines:\n",
    "- Use only the information from the Input text. Do not add any additional information.\n",
    "- If the input text is empty, return empty JSON.\n",
    "- Create as many nodes and relationships as needed to offer rich pharmaceutical context.\n",
    "- Entity types should be fairly general (Molecule, Disease, Company, Target).\n",
    "- Focus on: drug names, indications, targets, clinical phases, companies.\n",
    "\n",
    "Use only the following nodes and relationships:\n",
    "{schema}\n",
    "\n",
    "Assign a unique ID (string) to each node, and reuse it to define relationships.\n",
    "Respect the source and target node types for relationships and the relationship direction.\n",
    "\n",
    "Do not return any additional information other than the JSON.\n",
    "\n",
    "Examples:\n",
    "{examples}\n",
    "\n",
    "Input text:\n",
    "\n",
    "{text}\n",
    "'''\n",
    "\n",
    "print(\"✓ Extraction prompt created\")\n"
   ]
  },
  {
   "cell_type": "markdown",
   "id": "13d40c69",
   "metadata": {},
   "source": [
    "## 🤖 Initialize LLM \n",
    "\n",
    "Using gpt-4o-mini for entity extraction\n"
   ]
  },
  {
   "cell_type": "code",
   "execution_count": null,
   "id": "a9414489",
   "metadata": {},
   "outputs": [],
   "source": [
    "from neo4j_graphrag.llm import OpenAILLM\n",
    "from neo4j_graphrag.embeddings.openai import OpenAIEmbeddings\n",
    "\n",
    "ex_llm=OpenAILLM(\n",
    "    model_name=\"gpt-4o-mini\",\n",
    "    model_params={\n",
    "        \"response_format\": {\"type\": \"json_object\"}, # use json_object formatting for best results\n",
    "        \"temperature\": 0 # turning temperature down for more deterministic results\n",
    "    }\n",
    ")\n",
    "\n",
    "#create text embedder\n",
    "embedder = OpenAIEmbeddings(model=\"text-embedding-3-small\")\n",
    "\n"
   ]
  },
  {
   "cell_type": "markdown",
   "id": "87bbc26d",
   "metadata": {},
   "source": [
    "## 🔧 Configure SimpleKGPipeline\n",
    "\n",
    "This pipeline handles:\n",
    "1. PDF text extraction\n",
    "2. Text chunking\n",
    "3. LLM-based entity/relationship extraction\n",
    "4. Neo4j storage\n",
    "5. Vector embedding creation\n"
   ]
  },
  {
   "cell_type": "code",
   "execution_count": null,
   "id": "85dc09c1",
   "metadata": {},
   "outputs": [],
   "source": [
    "from neo4j_graphrag.experimental.components.text_splitters.fixed_size_splitter import FixedSizeSplitter\n",
    "from neo4j_graphrag.experimental.pipeline.kg_builder import SimpleKGPipeline\n",
    "\n",
    "# Create the KG builder pipeline\n",
    "kg_builder = SimpleKGPipeline(\n",
    "    llm=ex_llm,\n",
    "    driver=driver,\n",
    "    text_splitter=FixedSizeSplitter(\n",
    "        chunk_size=500,      # Characters per chunk\n",
    "        chunk_overlap=100    # Overlap between chunks\n",
    "    ),\n",
    "    embedder=embedder,\n",
    "    entities=node_labels,\n",
    "    relations=rel_types,\n",
    "    potential_schema=patterns,\n",
    "    prompt_template=prompt_template,\n",
    "    from_pdf=True,           # Enable PDF processing\n",
    "    neo4j_database=NEO4J_DATABASE,\n",
    ")\n",
    "\n",
    "print(\"✓ SimpleKGPipeline configured\")\n",
    "print(\"  PDF processing: enabled\")\n"
   ]
  },
  {
   "cell_type": "markdown",
   "id": "8cc946a9",
   "metadata": {},
   "source": [
    "## 🚀 Run Pipeline on PDFs\n",
    "\n",
    "**Expected runtime: ~5 minutes for 1 file**\n",
    "\n",
    "The pipeline will process 4 pharmaceutical PDFs and build a knowledge graph.\n"
   ]
  },
  {
   "cell_type": "code",
   "execution_count": null,
   "id": "45f15a28",
   "metadata": {},
   "outputs": [],
   "source": [
    "import asyncio\n",
    "from datetime import datetime\n",
    "\n",
    "# List of PDF files to process\n",
    "pdf_paths = [\n",
    "    '/content/workshop-data/AbbVie Long-Term Guidance and Pipeline Update.pdf',\n",
    "    # '/content/workshop-data/BMY-2024-Q1-Results-Investor-Presentation-with-Appendix.pdf',\n",
    "    # '/content/workshop-data/JNJ-Pipeline-2Q2024.pdf',\n",
    "    # '/content/workshop-data/ph-rd-pipeline-2025-07-24-update-20250725.pdf'\n",
    "]\n",
    "\n",
    "# Process each PDF\n",
    "print(f\"🏗️  Building Knowledge Graph from {len(pdf_paths)} PDFs...\")\n",
    "print(f\"   Started at: {datetime.now().strftime('%H:%M:%S')}\\n\")\n",
    "\n",
    "results = []\n",
    "for i, pdf_path in enumerate(pdf_paths, 1):\n",
    "    print(f\"[{i}/{len(pdf_paths)}] Processing: {pdf_path.split('/')[-1]}\")\n",
    "    try:\n",
    "        result = await kg_builder.run_async(file_path=pdf_path)\n",
    "        results.append(result)\n",
    "        \n",
    "        # Extract stats from result\n",
    "        if result.result and 'resolver' in result.result:\n",
    "            stats = result.result['resolver']\n",
    "            nodes_resolved = stats.get('number_of_nodes_to_resolve', 0)\n",
    "            nodes_created = stats.get('number_of_created_nodes', 0)\n",
    "            print(f\"    ✓ Resolved: {nodes_resolved} nodes, Created: {nodes_created} new nodes\")\n",
    "        else:\n",
    "            print(f\"    ✓ Completed\")\n",
    "    except Exception as e:\n",
    "        print(f\"    ❌ Error: {e}\")\n",
    "        \n",
    "print(f\"\\n✅ Knowledge Graph construction complete!\")\n",
    "print(f\"   Finished at: {datetime.now().strftime('%H:%M:%S')}\")\n"
   ]
  },
  {
   "cell_type": "markdown",
   "id": "39ca1a74",
   "metadata": {},
   "source": [
    "## 📊 Check Graph Statistics\n",
    "\n",
    "Let's see what we built!\n"
   ]
  },
  {
   "cell_type": "code",
   "execution_count": null,
   "id": "ede4940f",
   "metadata": {},
   "outputs": [],
   "source": [
    "def run_query(query):\n",
    "    \"\"\"Helper function to run Cypher queries\"\"\"\n",
    "    with driver.session(database=NEO4J_DATABASE) as session:\n",
    "        result = session.run(query)\n",
    "        return result.data()\n",
    "\n",
    "# Count nodes by type\n",
    "print(\"📊 Graph Statistics:\\n\")\n",
    "print(\"Nodes by type:\")\n",
    "for label in node_labels:\n",
    "    count = run_query(f\"MATCH (n:{label}) RETURN count(n) as count\")[0]['count']\n",
    "    print(f\"  {label}: {count}\")\n",
    "\n",
    "# Count relationships by type\n",
    "print(\"\\nRelationships by type:\")\n",
    "for rel_type in rel_types:\n",
    "    count = run_query(f\"MATCH ()-[r:{rel_type}]->() RETURN count(r) as count\")[0]['count']\n",
    "    print(f\"  {rel_type}: {count}\")\n",
    "\n",
    "# Count chunks\n",
    "chunk_count = run_query(\"MATCH (c:Chunk) RETURN count(c) as count\")[0]['count']\n",
    "print(f\"\\nText chunks: {chunk_count}\")\n",
    "\n",
    "print(\"\\n✓ Graph ready for querying!\")\n"
   ]
  },
  {
   "cell_type": "markdown",
   "id": "d1223e8d",
   "metadata": {},
   "source": [
    "---\n",
    "\n",
    "# 🔍 Part 2: Querying with Text2Cypher\n",
    "\n",
    "Now that we have a knowledge graph, let's query it using natural language!\n",
    "\n",
    "The `Text2CypherRetriever` converts questions into Cypher queries automatically.\n"
   ]
  },
  {
   "cell_type": "markdown",
   "id": "620d8ba9",
   "metadata": {},
   "source": [
    "## 🗺️ Define Neo4j Schema for Text2Cypher\n",
    "\n",
    "The LLM needs to understand the graph structure to generate correct Cypher queries.\n"
   ]
  },
  {
   "cell_type": "code",
   "execution_count": null,
   "id": "d033856f",
   "metadata": {},
   "outputs": [],
   "source": [
    "neo4j_schema = \"\"\"\n",
    "Node properties:\n",
    "- Molecule {{name: STRING}}\n",
    "- Company {{name: STRING}}\n",
    "- Target {{name: STRING}}\n",
    "- Disease {{name: STRING}}\n",
    "- Document {{path: STRING}}\n",
    "- Chunk {{text: STRING, page_number: INTEGER, index: INTEGER}}\n",
    "\n",
    "Relationships:\n",
    "- (:Molecule)-[:TREATS]->(:Disease)\n",
    "- (:Molecule)-[:TARGETS]->(:Target)\n",
    "- (:Disease)-[:ASSOCIATED]->(:Target)\n",
    "- (:Company)-[:IN_PIPELINE]->(:Molecule)\n",
    "- (:Document)-[:HAS_CHUNK]->(:Chunk)\n",
    "- (:Chunk)-[:NEXT_CHUNK]->(:Chunk)\n",
    "- (:Molecule)-[:MENTIONED_IN]->(:Chunk)\n",
    "- (:Disease)-[:MENTIONED_IN]->(:Chunk)\n",
    "- (:Company)-[:MENTIONED_IN]->(:Chunk)\n",
    "- (:Target)-[:MENTIONED_IN]->(:Chunk)\n",
    "\"\"\"\n",
    "\n",
    "print(\"✓ Schema defined for Text2Cypher\")\n"
   ]
  },
  {
   "cell_type": "markdown",
   "id": "18bf7ba1",
   "metadata": {},
   "source": [
    "## 💡 Provide Example Queries\n",
    "\n",
    "Examples help the LLM generate better Cypher queries.\n"
   ]
  },
  {
   "cell_type": "code",
   "execution_count": null,
   "id": "ac52c80b",
   "metadata": {},
   "outputs": [],
   "source": [
    "examples = [\n",
    "    \"USER INPUT: 'How many molecules are in the database?' CYPHER: MATCH (m:Molecule) RETURN count(m) as molecule_count\",\n",
    "    \"USER INPUT: 'Which diseases are being targeted?' CYPHER: MATCH (m:Molecule)-[:TREATS]->(d:Disease) RETURN DISTINCT d.name as disease ORDER BY disease\",\n",
    "    \"USER INPUT: 'List molecules and their target diseases' CYPHER: MATCH (m:Molecule)-[:TREATS]->(d:Disease) RETURN m.name as molecule, d.name as disease LIMIT 20\",\n",
    "    \"USER INPUT: 'Which companies have the most molecules in their pipeline?' CYPHER: MATCH (c:Company)-[:IN_PIPELINE]->(m:Molecule) RETURN c.name as company, count(m) as molecule_count ORDER BY molecule_count DESC LIMIT 10\",\n",
    "    \"USER INPUT: 'What targets are associated with cancer?' CYPHER: MATCH (d:Disease)-[:ASSOCIATED]->(t:Target) WHERE toLower(d.name) CONTAINS 'cancer' RETURN DISTINCT t.name as target\",\n",
    "]\n",
    "\n",
    "print(f\"✓ {len(examples)} example queries provided\")\n"
   ]
  },
  {
   "cell_type": "markdown",
   "id": "dde21167",
   "metadata": {},
   "source": [
    "## 🔧 Initialize Text2CypherRetriever\n"
   ]
  },
  {
   "cell_type": "code",
   "execution_count": null,
   "id": "1e7f6429",
   "metadata": {},
   "outputs": [],
   "source": [
    "llm=OpenAILLM(\n",
    "    model_name=\"gpt-4o-mini\",\n",
    "    model_params={\n",
    "        \"temperature\": 0 # turning temperature down for more deterministic results\n",
    "    }\n",
    ")"
   ]
  },
  {
   "cell_type": "code",
   "execution_count": null,
   "id": "7fcd906d",
   "metadata": {},
   "outputs": [],
   "source": [
    "from neo4j_graphrag.retrievers import Text2CypherRetriever\n",
    "\n",
    "# Create Text2Cypher retriever\n",
    "text2cypher_retriever = Text2CypherRetriever(\n",
    "    driver=driver,\n",
    "    llm=llm,\n",
    "    neo4j_schema=neo4j_schema,\n",
    "    # examples = examples\n",
    ")\n",
    "\n",
    "print(\"✓ Text2CypherRetriever initialized\")\n",
    "print(\"  Ready to convert natural language to Cypher!\")\n"
   ]
  },
  {
   "cell_type": "markdown",
   "id": "68046471",
   "metadata": {},
   "source": [
    "## 🎯 Try Some Queries!\n",
    "\n",
    "Let's ask questions about our pharmaceutical knowledge graph.\n"
   ]
  },
  {
   "cell_type": "code",
   "execution_count": null,
   "id": "1aaeadde",
   "metadata": {},
   "outputs": [],
   "source": [
    "from neo4j_graphrag.generation import GraphRAG  # Correct import!\n",
    "\n",
    "rag = GraphRAG(retriever=text2cypher_retriever, llm=llm)\n",
    "\n",
    "def query_graph(question):\n",
    "    \"\"\"Helper function to query the graph and display results\"\"\"\n",
    "    print(f\"Question: {question}\")\n",
    "    print(\"=\"*60)\n",
    "\n",
    "    response = rag.search(query_text=question, return_context=True)\n",
    "    print(f\"  {response.retriever_result.metadata.get('cypher', 'N/A')}\")\n",
    "    print(f\"\\nAnswer: {response.answer}\")"
   ]
  },
  {
   "cell_type": "code",
   "execution_count": null,
   "id": "a1860115",
   "metadata": {},
   "outputs": [],
   "source": [
    "query_graph(\"How many molecules do I have in the database?\")"
   ]
  },
  {
   "cell_type": "code",
   "execution_count": null,
   "id": "5ddf3bdb",
   "metadata": {},
   "outputs": [],
   "source": [
    "query_graph(\"What diseases are being targeted the most?\")"
   ]
  },
  {
   "cell_type": "code",
   "execution_count": null,
   "id": "0ca4c034",
   "metadata": {},
   "outputs": [],
   "source": [
    "query_graph(\"Which companies have the most molecules in their pipeline?\")\n"
   ]
  },
  {
   "cell_type": "code",
   "execution_count": null,
   "id": "75913567",
   "metadata": {},
   "outputs": [],
   "source": [
    "query_graph(\"Show me molecules that target cancer-related diseases\")\n"
   ]
  },
  {
   "cell_type": "code",
   "execution_count": null,
   "id": "6aa55466",
   "metadata": {},
   "outputs": [],
   "source": [
    "query_graph(\"What are the main therapeutic areas being targeted across all companies?\")\n"
   ]
  },
  {
   "cell_type": "code",
   "execution_count": null,
   "id": "aa28b6a0",
   "metadata": {},
   "outputs": [],
   "source": [
    "query_graph(\"Which company has the most diverse pipeline in terms of disease areas?\")"
   ]
  },
  {
   "cell_type": "markdown",
   "id": "bbeeee7e",
   "metadata": {},
   "source": [
    "---\n",
    "\n",
    "# 🎓 What You've Learned\n",
    "\n",
    "Congratulations! You've just:\n",
    "\n",
    "✅ Built a knowledge graph from pharmaceutical PDFs  \n",
    "✅ Used LLMs for automatic entity extraction  \n",
    "✅ Queried graphs using Text2Cypher (natural language → Cypher)  \n",
    "✅ Built a complete GraphRAG pipeline  \n",
    "\n",
    "## 🚨 Limitations of This Approach\n",
    "\n",
    "This simple approach works, but has limitations:\n",
    "\n",
    "1. **PDF Text Extraction** - We only extracted plain text, missing:\n",
    "   - Tables and structured data\n",
    "   - Page layout and visual structure\n",
    "   - Logos and branding (company identification)\n",
    "\n",
    "2. **One shot RAG** - The LLM has to generate the perfect cypher query:\n",
    "   - Cannot test and retry\n",
    "   - Difficult to answer very complex question\n",
    "   - Non deterministc nature of the LLMs\n",
    "\n",
    "**💡 Next:** We'll explore custom extractors that handle these challenges!\n",
    "\n",
    "---\n",
    "\n",
    "# 🎯 Try It Yourself!\n",
    "\n",
    "**Experiment with:**\n",
    "- Different questions\n",
    "- Custom schemas (modify `node_labels`, `rel_types`, `patterns`)\n",
    "- Different prompt templates\n",
    "- Your own PDFs\n",
    "\n",
    "**Questions to explore:**\n",
    "- What molecules target the same disease?\n",
    "- Which targets are most popular?\n",
    "- What's the relationship between companies and diseases?\n"
   ]
  },
  {
   "cell_type": "markdown",
   "id": "86fd5134",
   "metadata": {},
   "source": [
    "---\n",
    "\n",
    "# 🧹 Cleanup (Optional)\n",
    "\n",
    "If you want to clear your database and start fresh:\n"
   ]
  },
  {
   "cell_type": "code",
   "execution_count": null,
   "id": "b95b7fa5",
   "metadata": {},
   "outputs": [],
   "source": [
    "# Uncomment to delete all data\n",
    "# WARNING: This will delete everything in your database!\n",
    "\n",
    "# with driver.session(database=NEO4J_DATABASE) as session:\n",
    "#     session.run(\"MATCH (n) DETACH DELETE n\")\n",
    "#     print(\"✓ Database cleared\")\n",
    "\n",
    "# Close driver connection\n",
    "driver.close()\n",
    "print(\"✓ Connection closed\")\n"
   ]
  },
  {
   "cell_type": "markdown",
   "id": "cd20864e",
   "metadata": {},
   "source": [
    "---\n",
    "\n",
    "# 📚 Resources\n",
    "\n",
    "- [Neo4j GraphRAG Python Documentation](https://neo4j.com/docs/neo4j-graphrag-python)\n",
    "- [Neo4j Cypher Manual](https://neo4j.com/docs/cypher-manual/current/)\n",
    "- [Neo4j GraphAcademy](https://graphacademy.neo4j.com/) - Free courses\n",
    "\n",
    "**Next Notebook:** Custom Extractors for Complex PDFs →\n"
   ]
  }
 ],
 "metadata": {
  "kernelspec": {
   "display_name": "ws-venv",
   "language": "python",
   "name": "python3"
  },
  "language_info": {
   "codemirror_mode": {
    "name": "ipython",
    "version": 3
   },
   "file_extension": ".py",
   "mimetype": "text/x-python",
   "name": "python",
   "nbconvert_exporter": "python",
   "pygments_lexer": "ipython3",
   "version": "3.13.7"
  }
 },
 "nbformat": 4,
 "nbformat_minor": 5
}
